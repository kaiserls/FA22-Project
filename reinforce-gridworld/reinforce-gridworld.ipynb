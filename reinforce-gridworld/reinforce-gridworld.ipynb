{
 "cells": [
  {
   "cell_type": "markdown",
   "metadata": {},
   "source": [
    "![](https://i.imgur.com/eBRPvWB.png)\n",
    "\n",
    "# Practical PyTorch: Playing GridWorld with Reinforcement Learning (Policy Gradients with REINFORCE)\n",
    "\n",
    "In this project we'll teach a neural network to navigate through a dangerous grid world.\n",
    "\n",
    "![](http://i.imgur.com/XNGB7sr.gif)\n",
    "\n",
    "Training uses [policy gradients](http://www.scholarpedia.org/article/Policy_gradient_methods) via the REINFORCE algorithm and a simplified Actor-Critic method. A single network calculates both a policy to choose the next action (the actor) and an estimated value of the current state (the critic). Rewards are propagated through the graph with PyTorch's [`reinforce` method](http://pytorch.org/docs/autograd.html?highlight=reinforce#torch.autograd.Variable.reinforce)."
   ]
  },
  {
   "cell_type": "markdown",
   "metadata": {},
   "source": [
    "## Resources\n",
    "\n",
    "* [*The* Reinforcement learning book from Sutton & Barto](http://incompleteideas.net/sutton/book/the-book-2nd.html)\n",
    "* [The REINFORCE paper from Ronald J. Williams (1992)](http://www-anw.cs.umass.edu/~barto/courses/cs687/williams92simple.pdf)\n",
    "* [Scholarpedia article on policy gradient methods](http://www.scholarpedia.org/article/Policy_gradient_methods)\n",
    "* [A Lecture from David Silver (of UCL, DeepMind) on policy gradients](http://www0.cs.ucl.ac.uk/staff/d.silver/web/Teaching_files/pg.pdf)\n",
    "* [The REINFORCE PyTorch example this tutorial is based on](https://github.com/pytorch/examples/tree/master/reinforcement_learning)\n"
   ]
  },
  {
   "cell_type": "markdown",
   "metadata": {},
   "source": [
    "## Requirements\n",
    "\n",
    "The main requirements are PyTorch (of course), and numpy, matplotlib, and iPython for animating the states."
   ]
  },
  {
   "cell_type": "code",
   "execution_count": 31,
   "metadata": {
    "collapsed": false
   },
   "outputs": [
    {
     "name": "stdout",
     "output_type": "stream",
     "text": [
      "Populating the interactive namespace from numpy and matplotlib\n"
     ]
    },
    {
     "name": "stderr",
     "output_type": "stream",
     "text": [
      "/usr/lib/python3/dist-packages/IPython/core/magics/pylab.py:159: UserWarning: pylab import has clobbered these variables: ['e', 'gamma', 'random']\n",
      "`%matplotlib` prevents importing * from pylab and numpy\n",
      "  warn(\"pylab import has clobbered these variables: %s\"  % clobbered +\n"
     ]
    }
   ],
   "source": [
    "import numpy as np\n",
    "from itertools import count\n",
    "import random\n",
    "\n",
    "import torch\n",
    "import torch.nn as nn\n",
    "import torch.nn.functional as F\n",
    "import torch.optim as optim\n",
    "import torch.autograd as autograd\n",
    "from torch.autograd import Variable\n",
    "\n",
    "import matplotlib.mlab as mlab\n",
    "import matplotlib.pyplot as plt\n",
    "import matplotlib.animation\n",
    "from IPython.display import HTML\n",
    "%pylab inline\n",
    "\n",
    "from helpers import *"
   ]
  },
  {
   "cell_type": "markdown",
   "metadata": {},
   "source": [
    "## The Grid World, Agent and Environment\n",
    "\n",
    "First we'll build the training environment, which is a simple square grid world with various rewards and a goal. If you're just interested in the training code, skip down to [building the actor-critic network](#Actor-Critic-network)"
   ]
  },
  {
   "cell_type": "markdown",
   "metadata": {},
   "source": [
    "### The Grid\n",
    "\n",
    "The **Grid** class keeps track of the grid world: a 2d array of empty squares, plants, and the goal.\n",
    "\n",
    "![](https://i.imgur.com/kss8W95.png)\n",
    "\n",
    "Plants are randomly placed values from -1 to 0.5 (mostly poisonous) and if the agent lands on one, that value is added to the agent's health. The agent's goal is to reach the goal square, placed in one of the corners. As the agent moves around it gradually loses health so it has to move with purpose.\n",
    "\n",
    "The agent can see a surrounding area `VISIBLE_RADIUS` squares out from its position, so the edges of the grid are padded by that much with negative values. If the agent \"falls off the edge\" it dies instantly."
   ]
  },
  {
   "cell_type": "code",
   "execution_count": 32,
   "metadata": {
    "collapsed": true
   },
   "outputs": [],
   "source": [
    "MIN_PLANT_VALUE = -1\n",
    "MAX_PLANT_VALUE = 0.5\n",
    "GOAL_VALUE = 10\n",
    "EDGE_VALUE = -10\n",
    "VISIBLE_RADIUS = 1\n",
    "\n",
    "class Grid():\n",
    "    def __init__(self, grid_size=8, n_plants=15):\n",
    "        self.grid_size = grid_size\n",
    "        self.n_plants = n_plants\n",
    "        \n",
    "    def reset(self):\n",
    "        padded_size = self.grid_size + 2 * VISIBLE_RADIUS\n",
    "        self.grid = np.zeros((padded_size, padded_size)) # Padding for edges\n",
    "        \n",
    "        # Edges\n",
    "        self.grid[0:VISIBLE_RADIUS, :] = EDGE_VALUE\n",
    "        self.grid[-1*VISIBLE_RADIUS:, :] = EDGE_VALUE\n",
    "        self.grid[:, 0:VISIBLE_RADIUS] = EDGE_VALUE\n",
    "        self.grid[:, -1*VISIBLE_RADIUS:] = EDGE_VALUE\n",
    "        \n",
    "        # Randomly placed plants\n",
    "        for i in range(self.n_plants):\n",
    "            plant_value = random.random() * (MAX_PLANT_VALUE - MIN_PLANT_VALUE) + MIN_PLANT_VALUE\n",
    "            ry = random.randint(0, self.grid_size-1) + VISIBLE_RADIUS\n",
    "            rx = random.randint(0, self.grid_size-1) + VISIBLE_RADIUS\n",
    "            self.grid[ry, rx] = plant_value\n",
    " \n",
    "        # Goal in one of the corners\n",
    "        S = VISIBLE_RADIUS\n",
    "        E = self.grid_size + VISIBLE_RADIUS - 1\n",
    "        gps = [(E, E), (S, E), (E, S), (S, S)]\n",
    "        gp = gps[random.randint(0, len(gps)-1)]\n",
    "        self.grid[gp] = GOAL_VALUE\n",
    "    \n",
    "    def visible(self, pos):\n",
    "        y, x = pos\n",
    "        return self.grid[y-VISIBLE_RADIUS:y+VISIBLE_RADIUS+1, x-VISIBLE_RADIUS:x+VISIBLE_RADIUS+1]"
   ]
  },
  {
   "cell_type": "markdown",
   "metadata": {},
   "source": [
    "### The Agent\n",
    "\n",
    "The **Agent** has a current position and a health. All this class does is update the position based on an action (up, right, down or left) and decrement a small `STEP_VALUE` at every time step, so that it eventually starves if it doesn't reach the goal.\n",
    "\n",
    "The world based effects on the agent's health are handled by the Environment below."
   ]
  },
  {
   "cell_type": "code",
   "execution_count": 33,
   "metadata": {
    "collapsed": true
   },
   "outputs": [],
   "source": [
    "START_HEALTH = 1\n",
    "STEP_VALUE = -0.02\n",
    "\n",
    "class Agent:\n",
    "    def reset(self):\n",
    "        self.health = START_HEALTH\n",
    "\n",
    "    def act(self, action):\n",
    "        # Move according to action: 0=UP, 1=RIGHT, 2=DOWN, 3=LEFT\n",
    "        y, x = self.pos\n",
    "        if action == 0: y -= 1\n",
    "        elif action == 1: x += 1\n",
    "        elif action == 2: y += 1\n",
    "        elif action == 3: x -= 1\n",
    "        self.pos = (y, x)\n",
    "        self.health += STEP_VALUE # Gradually getting hungrier"
   ]
  },
  {
   "cell_type": "markdown",
   "metadata": {},
   "source": [
    "### The Environment\n",
    "\n",
    "The **Environment** encapsulates the Grid and Agent, and handles the bulk of the logic of assigning rewards when the agent acts. If an agent lands on a plant or goal or edge, its health is updated accordingly. Plants are removed from the grid (set to 0) when \"eaten\" by the agent. Every time step there is also a slight negative health penalty so that the agent must keep finding plants or reach the goal to survive.\n",
    "\n",
    "The Environment's main function is `step(action)` &rarr; `(state, reward, done)`, which updates the world state with a chosen action and returns the resulting state, and also returns a reward and whether the episode is done. The state it returns is what the agent will use to make its action predictions, which in this case is the visible grid area (flattened into one dimension) and the current agent health (to give it some \"self awareness\").\n",
    "\n",
    "The episode is considered done if won or lost - won if the agent reaches the goal (`agent.health >= GOAL_VALUE`) and lost if the agent dies from falling off the edge, eating too many poisonous plants, or getting too hungry (`agent.health <= 0`).\n",
    "\n",
    "In this experiment the environment only returns a single reward at the end of the episode (to make it more challenging). Values from plants and the step penalty are implicit - they might cause the agent to live longer or die sooner, but they aren't included in the final reward.\n",
    "\n",
    "The Environment also keeps track of the grid and agent states for each step of an episode, for visualization."
   ]
  },
  {
   "cell_type": "code",
   "execution_count": 34,
   "metadata": {
    "collapsed": true
   },
   "outputs": [],
   "source": [
    "class Environment:\n",
    "    def __init__(self):\n",
    "        self.grid = Grid()\n",
    "        self.agent = Agent()\n",
    "\n",
    "    def reset(self):\n",
    "        \"\"\"Start a new episode by resetting grid and agent\"\"\"\n",
    "        self.grid.reset()\n",
    "        self.agent.reset()\n",
    "        c = math.floor(self.grid.grid_size / 2)\n",
    "        self.agent.pos = (c, c)\n",
    "        \n",
    "        self.t = 0\n",
    "        self.history = []\n",
    "        self.record_step()\n",
    "        \n",
    "        return self.visible_state\n",
    "    \n",
    "    def record_step(self):\n",
    "        \"\"\"Add the current state to history for display later\"\"\"\n",
    "        grid = np.array(self.grid.grid)\n",
    "        grid[self.agent.pos] = self.agent.health * 0.5 # Agent marker faded by health\n",
    "        visible = np.array(self.grid.visible(self.agent.pos))\n",
    "        self.history.append((grid, visible, self.agent.health))\n",
    "    \n",
    "    @property\n",
    "    def visible_state(self):\n",
    "        \"\"\"Return the visible area surrounding the agent, and current agent health\"\"\"\n",
    "        visible = self.grid.visible(self.agent.pos)\n",
    "        y, x = self.agent.pos\n",
    "        yp = (y - VISIBLE_RADIUS) / self.grid.grid_size\n",
    "        xp = (x - VISIBLE_RADIUS) / self.grid.grid_size\n",
    "        extras = [self.agent.health, yp, xp]\n",
    "        return np.concatenate((visible.flatten(), extras), 0)\n",
    "    \n",
    "    def step(self, action):\n",
    "        \"\"\"Update state (grid and agent) based on an action\"\"\"\n",
    "        self.agent.act(action)\n",
    "        \n",
    "        # Get reward from where agent landed, add to agent health\n",
    "        value = self.grid.grid[self.agent.pos]\n",
    "        self.grid.grid[self.agent.pos] = 0\n",
    "        self.agent.health += value\n",
    "        \n",
    "        # Check if agent won (reached the goal) or lost (health reached 0)\n",
    "        won = value == GOAL_VALUE\n",
    "        lost = self.agent.health <= 0\n",
    "        done = won or lost\n",
    "        \n",
    "        # Rewards at end of episode\n",
    "        if won:\n",
    "            reward = 1\n",
    "        elif lost:\n",
    "            reward = -1\n",
    "        else:\n",
    "            reward = 0 # Reward will only come at the end\n",
    "\n",
    "        # Save in history\n",
    "        self.record_step()\n",
    "        \n",
    "        return self.visible_state, reward, done"
   ]
  },
  {
   "cell_type": "markdown",
   "metadata": {},
   "source": [
    "### Visualizing History\n",
    "\n",
    "To visualize an episode the `animate(history)` function uses Matplotlib to plot the grid state and agent health over time, and turn the resulting frames into a GIF."
   ]
  },
  {
   "cell_type": "code",
   "execution_count": 35,
   "metadata": {
    "collapsed": false
   },
   "outputs": [],
   "source": [
    "def animate(history):\n",
    "    frames = len(history)\n",
    "    print(\"Rendering %d frames...\" % frames)\n",
    "    fig = plt.figure(figsize=(6, 2))\n",
    "    fig_grid = fig.add_subplot(121)\n",
    "    fig_health = fig.add_subplot(243)\n",
    "    fig_visible = fig.add_subplot(244)\n",
    "    fig_health.set_autoscale_on(False)\n",
    "    health_plot = np.zeros((frames, 1))\n",
    "\n",
    "    def render_frame(i):\n",
    "        grid, visible, health = history[i]\n",
    "        # Render grid\n",
    "        fig_grid.matshow(grid, vmin=-1, vmax=1, cmap='jet')\n",
    "        fig_visible.matshow(visible, vmin=-1, vmax=1, cmap='jet')\n",
    "        # Render health chart\n",
    "        health_plot[i] = health\n",
    "        fig_health.clear()\n",
    "        fig_health.axis([0, frames, 0, 2])\n",
    "        fig_health.plot(health_plot[:i + 1])\n",
    "\n",
    "    anim = matplotlib.animation.FuncAnimation(\n",
    "        fig, render_frame, frames=frames, interval=100\n",
    "    )\n",
    "\n",
    "    plt.close()\n",
    "    display(HTML(anim.to_html5_video()))"
   ]
  },
  {
   "cell_type": "markdown",
   "metadata": {},
   "source": [
    "### Testing the Environment\n",
    "\n",
    "Let's test what we have so far with a quick simulation:"
   ]
  },
  {
   "cell_type": "code",
   "execution_count": 36,
   "metadata": {
    "collapsed": false
   },
   "outputs": [
    {
     "name": "stdout",
     "output_type": "stream",
     "text": [
      "[ 0.         -0.13014189  0.          0.          0.          0.20908408\n",
      "  0.          0.          0.          1.          0.375       0.375     ]\n",
      "Rendering 6 frames...\n"
     ]
    },
    {
     "data": {
      "text/html": [
       "<video width=\"432\" height=\"144\" controls autoplay loop>\n",
       "  <source type=\"video/mp4\" src=\"data:video/mp4;base64,AAAAIGZ0eXBNNFYgAAACAE00ViBpc29taXNvMmF2YzEAAAAIZnJlZQAAGZdtZGF0AAACrgYF//+q\n",
       "3EXpvebZSLeWLNgg2SPu73gyNjQgLSBjb3JlIDE2MyByMzA2MCA1ZGI2YWE2IC0gSC4yNjQvTVBF\n",
       "Ry00IEFWQyBjb2RlYyAtIENvcHlsZWZ0IDIwMDMtMjAyMSAtIGh0dHA6Ly93d3cudmlkZW9sYW4u\n",
       "b3JnL3gyNjQuaHRtbCAtIG9wdGlvbnM6IGNhYmFjPTEgcmVmPTMgZGVibG9jaz0xOjA6MCBhbmFs\n",
       "eXNlPTB4MzoweDExMyBtZT1oZXggc3VibWU9NyBwc3k9MSBwc3lfcmQ9MS4wMDowLjAwIG1peGVk\n",
       "X3JlZj0xIG1lX3JhbmdlPTE2IGNocm9tYV9tZT0xIHRyZWxsaXM9MSA4eDhkY3Q9MSBjcW09MCBk\n",
       "ZWFkem9uZT0yMSwxMSBmYXN0X3Bza2lwPTEgY2hyb21hX3FwX29mZnNldD0tMiB0aHJlYWRzPTQg\n",
       "bG9va2FoZWFkX3RocmVhZHM9MSBzbGljZWRfdGhyZWFkcz0wIG5yPTAgZGVjaW1hdGU9MSBpbnRl\n",
       "cmxhY2VkPTAgYmx1cmF5X2NvbXBhdD0wIGNvbnN0cmFpbmVkX2ludHJhPTAgYmZyYW1lcz0zIGJf\n",
       "cHlyYW1pZD0yIGJfYWRhcHQ9MSBiX2JpYXM9MCBkaXJlY3Q9MSB3ZWlnaHRiPTEgb3Blbl9nb3A9\n",
       "MCB3ZWlnaHRwPTIga2V5aW50PTI1MCBrZXlpbnRfbWluPTEwIHNjZW5lY3V0PTQwIGludHJhX3Jl\n",
       "ZnJlc2g9MCByY19sb29rYWhlYWQ9NDAgcmM9Y3JmIG1idHJlZT0xIGNyZj0yMy4wIHFjb21wPTAu\n",
       "NjAgcXBtaW49MCBxcG1heD02OSBxcHN0ZXA9NCBpcF9yYXRpbz0xLjQwIGFxPTE6MS4wMACAAAAN\n",
       "cmWIhAAQ//73gb8yy18iuslx+edbnfxGbb5gCKhY8uu1Mqu3FWLQQNzTrv5syus2hhWMLLStJGmH\n",
       "zBAWTWvaWC4B1s1gOCdp3ah+0OqLnfo75Rwxl8at9wjrTi+EGzgIMNbY15em0435nNn0+Hh3MFfG\n",
       "SVk1fAMXOqEsrvWMZ5zIdJV5L3Oi1ssXJPh/roj15va059K2b4oaKHN0nfqFP7FpMuMZHKBqou1s\n",
       "FEuw3DjK5GYxXm5FSm5W7C5E0c/pdeoO8n5y6Af3g5Zehsq9/IrX5fG26uw7XeSunzfTz/hmcph4\n",
       "Ph1/spZubChTvc9/xr8kLz5tOSVH1NmS4jldj5ouCiFGPU6uCK3PbMoM30zljSS2H0qJEHESLQm0\n",
       "9p5LLNqKrGG4AccCPoUDnvnFUzINklMxiUNaK9Ccp/+BEVTYTLIIakKVVWVNvowexa99zFylDRQt\n",
       "TJjG1tg9cWKGrYN7T5TxVzlgO9wMQNqEd8cL3nBQx0Ofby6mrDhi1xlMG71owFOlM9WBTdZtMFRe\n",
       "3m7N/T1z2TOEcsLBCO3/tdZ7MAdUNwPbwiWxjz1/N/e5mcz6Z3RYvBDyDwkszbAMw3U4BMmXa88X\n",
       "pO4JCsC5yu/l0TSt0U0W6jhvOQ9u9p01kD8zQKlCGrAeYEvFRfNJYu+QV9/7I+kmDXb0/aknJMRT\n",
       "BpPtSdup2oaFnhiDLBw+MjyZeqAO/VIN9Yn4FOejexJi5vRfb78KX0iRInN2zv9LVT/2UicTLdJf\n",
       "8TjCMu5L9kUJsa2CLhKH6z4WMetsH/0GfnNG/fgshM+afs7ZJkT/iRDLwfNdSXfRD/zbPdxBjU9X\n",
       "xSbVvq6NlZGS6mdzrdB7WJN+9G9L4YXUYIlPi1myjfM9R9b8G8Atjt86WBQDPbYYbD56w8tOv16s\n",
       "DgvS6LCfksxq8MSlNjJqtM1Q/WqEkZElBcBAcTy7jIRJ0aQFOqAwTlD+eetThgmE7Z4Dp2twH3Ju\n",
       "x9kdXphWdJJXalzYCP7EAZWgW40C0omAjHa/phNLr1z42txVvWvzNP78wHLyeL3tIAwwm/nhHquK\n",
       "vlw2Aevybjw13+NS1eTJwdo3JXi/QRct9O8wp3zMvfbYhEMgTPMUjwP33BuzBHi2CehJT8fFw0el\n",
       "CLL8WRPFkQWmk5THh7Ab4DUcO2C1ElzgxQppcTquMFs7nMZkRwoTp44N0wDe1d17Le9njW9oonho\n",
       "eBMe5dvnwz/qj63yREj/enaHPAFefyLRdYMS7ML9pRIy8JZziRnSvijnO0ILJa4l+u0PKPY2DxzF\n",
       "aHOOd46VPXAwd6it/qHgHNhQybRsT0fACqm17YL4Lr6DOB2Df6j2SKdFBV93jwMreyFDskBXSwAy\n",
       "WmjZaFB/AN/Glleiiz6LCiZCwWm60V4cbFe0YIS9cjXb2uiuCmaLmQpUfcuKs/iX83cSP1ATeqGx\n",
       "AFUQZKXq7XA3/6Yzhizldu3uv2AuUHWd31aAHIpHBH3fecrCm19eFVrZEtxArkDZYj/CMB7xPDj0\n",
       "Z7Zdu5vrhzLHWyqmmiXqHf2l4DC4HVHJzOTg4ZwrjWUPXEkF0eNvdLyhfSaMsRsAj4hLS+Zgm/cj\n",
       "Kx1O1kSUIj7z6tX54XxlYdX1ZWaOF7x/ZV7/PgQ9YZ3+AaysYsnpDEwRLckC6hsrQNUv9AMDGc2r\n",
       "2JSg1Wk3hsjeNxi7/pJH+ZOA4dAWJMjqebr4UL7MqNBfeIv+K/Uqg4hMT+jlqxRVqZlCC+3noE+M\n",
       "1vUjD7x6OYp9g1/avX7SAJ8bhrjTHAriwFM6gd82ZAvVugS9ldS+tExbLyMYQ+4rtOlJSNHSAG02\n",
       "DeERyHDSSpXx6x77e19jh7yqjt/A/KsVpRX1v8WMZu2rXZgG0xcPoq5HZWuSNsu8MI+fuSpsBOKg\n",
       "rWEvvhRc4JWnskzaYel7AZofpECus3hGq1h/FmZ0N7nShqjiOxayLWDKRDXUOpepy7N3Foz3BdDB\n",
       "CwJ2ooiCDDp3KIkGDtH5hx3B/D6NYkS+b85wNJiaUOSgewrHw8Xi/HmRtBkwriDL3DY79tUMma3z\n",
       "wsXGpm5igh3aHaL4EVGq91ZK5vuIu6AthnxyBwdc2DEvJv9x5QugOKQMyGlzlEVKoiDY34+lEgG8\n",
       "g4VPjS9OH9aM/lWA9tAsAK91SEo4G8hvAIawMu6Bb1FNierzMyYPv0iC2bsVairtVzBpoNrEq2Kb\n",
       "Pmr4r9YbtiWw48U1A8u60+WxaMxh5UdZCkG7rCW6bEGaKu0fL0TosKFgX1p/dkezxF/q2TWeLAW9\n",
       "Z7B7tPjuzBOf0qNSN2Pj4qNFtGF5TaDCV1/8nJgCFRBz6krAFguE+6C34gD+jPdL+sPVmxUhROAU\n",
       "de7p1op4ruN/kIJ+fmrNk8UyUCgHFj+qd/fAFICP+6N3jrCioEu6/R9vmYeOuO2wTIE7ssKPG5TS\n",
       "a3gNeNahcHjaRRb32Pqsz5KcLxwm4BrLEiNp9DRFjHE7sX+PMVnD/4MUweEhxKLEik30HGa1pmfd\n",
       "oJS4KIh23d/pcgNfwwDA0OaU89BxXfsCth03hjO477GQKa4y4rLK6D75CdfLDEO37tWJ0xYn1E+l\n",
       "DJd2LoICCnikfQxvI+EZwmAvkibJHWAO7SBok1vBsT0ildZUWkF7Gp8FdHMSP9E5uDd9ET38qt8z\n",
       "y2/IkJ2l4lt5knM6EtTPudpeVAKnFulHJ7vq79/DIE3X7ICvD9+IW8f7qf5T4JUUm0grsYORjzfP\n",
       "KUdj6to6AMdH471ekGUwPqxVLU842W1+o9BuO6sd5kl5jwD7LhJ40sYSAspFflyeHjHqxKZv/a9B\n",
       "HvTQvSs9+k96t719NuygWJcyCcIuYAABqIRQaWMjb2NssvCj1auUlXe9m+Moeuy40sg5GvcBumUe\n",
       "rq2xz2tjpG0uHOSTSw9fCTAixu1TO40h39MNG7XdGcOfi2UJomNSI4e/yqXgSjYO35x4SF8fBNPe\n",
       "XV/zneEVpwDwIM4Lxld1QDsQv8sGhan5PzxTrlavDrtKOW27sj9ohTdAcsDhWtlHqvDPI/5SYlZB\n",
       "LvYgKqB5zOKz2wRAqZqhGmIo3gxCcYwXZFzsUDo5mTIx11i32kyNpFLaHNSlPcBCvXdll+8Xoxki\n",
       "/DDHYCfCVO2v7UzuDau2E0hRDzjgA9xOezxiwAyahawNhKAhMN4911tP49j2Lo5OD5QJI77sNTks\n",
       "SWaojL6s2sBuqD97Ti2LWIMxeqvZiXjhtdTEhx8EUwNnIQbh1e8Nf2p1QgZMepiDZL/oIPZ83BLW\n",
       "Zv70bmlNVIgCHxA/+wIIxfM7iBuu+8JMXlk8nj04DVOEDJSqFvMVbR5ww+yKR/GQT0UvEMkJggja\n",
       "blrjEEZU93OJgt1I0lMTq4eDlmSe6MmsvdYg8SSE5TLU6vC5hhc1nnxH/d1Z5T25nQdNm/kax61f\n",
       "1lefHGKbE/62OFoR4dGiNEae7D7RzT/l+NJ4FVqzyDT2uUs4H30iGvPHaal23TjX5kSrcTqSqi6F\n",
       "6vycsB1qj7d/+XlVFvtzOf/5bLJ8F43rDkLQjdFmzUlp49vfrg3W2tMNcDPIyaPwU9iyZ1we/Y4r\n",
       "T8qcwxMyW+zfqYs5j/kJKQ+eaU4PzdO3C5msf+S8ulPz//g30o7/4CyHE+fVHTIomAg0m23BQr/I\n",
       "cPTr6i+XAEP3gN6Un67uYB14Q9hzjKBjmi2Xa9r2KAHNv7Rm41dKaMtFFtePUUyIu63eh5LY0fiO\n",
       "PhXmt/eiDwMfskc9h5V1a6uUPNJ+9wYGmzb378KWvJD9FkBMiQDN6rnvdA5FNZevr3Fbra2SfiT3\n",
       "tqkG/zObaCzR8bteC+tXstZK35iqZX8pQkdHifOy/VSs3UvDaT937Or3nRBggwvq/jrGCBFBwGi/\n",
       "NE2LHZpTYszyi9deVye95DHKfnr/BGCqgyRzClr3DHIEx9wVJSrwInGIbUbGII62CGMXAjwfncyh\n",
       "4F7AiMtMKP6yaHHbYi7PunBPRM/RkGpZMIEOcIP8YyvoArmQ5gs0ak9b3/dJVa8Ucc0b4+x4KMva\n",
       "p/87fjAo9gmTP/8yAEe8hLdAyuDuNaj/Zs6uXMuXixXWAHH8gSOhBZBIQVu2w/C0cT01PqZE+J93\n",
       "andy0ZmY2yRXafoGSB2EJIC6FyufU2AbgPWBfuKAi9yF0WXrmoZr2+PZg38pfOtRy0f+RVraegCN\n",
       "QDJGIkgCB67FO0TG9F/Se+mzfIf2ne7VHTBI+HYKWIK/EqvjF/HG/6HAOnP22nHQWA7LfK/1/UKx\n",
       "xVbTnNxXPPuYLe4KwDsd8BuC3Dkz8FIbkVIqsyJAZZ94WfK/5c03+ZAaBv/4Wx9AcPM6OOucZMA/\n",
       "e74wr3cqlCFXx2cDaE1tV3+4WM8bCFaSxmtEQSjRkwYp/H8VnP7gsnT6AG6ijhz/iwtasY0lH6zc\n",
       "IzCRrx3UU3qwndH+4Uz6t4ZiuUQY4JwSSopkTOmj2k7dRSg9pWAGM496o/FNScEtZwuoEAEx60Le\n",
       "jK5napfREq5JOOFd34TPoyRcenQOooX48ZMwYTGuolLN94LlU4m2P09UutSL4u7mMvfkWQWYo0li\n",
       "qy1yKMyjH5CBGBS5ytw6GTreupYvLCEAAAMCQZoibEP//qmXOQPagBJDcjWZJEDddC6MIdJgg4va\n",
       "mLOspSux55za3yKdr1KWJse6wH5r+1KsqCuUNznXPG7sh40AsuMIvHDqe5VhzMQPm1WQSnXsVFFB\n",
       "fqdIDhdeWcpdLtbGyxzP+1zMQ9CPrd8VvBxudtrO/EIHZlRbnmx+2XvJapwTRhkA8067YKMAnlXR\n",
       "f6rtwKdFG1+ZzCwCPuRnc6hhcZ28ZzOKB4n9CntJAiGMfFbLaF0cGPZKV5Jo22XO+2OATRQb1oyC\n",
       "Or6QwLeOxdUzREpCGnCesflyKkDAc1JnyRWg2ztvPrrUei6i8T1zQrQF5Dctnx4YxqreyQgnrDUD\n",
       "3qU9QgG+iJUMWfWAoTBe7CXh6uPefJeRYUtIjZ+MljlCSljrhpxxf0XYFOw64nTQ363pBOwwmvdN\n",
       "PYB0sdAlwR5DGnVcse8CJc7k6GX4DtYD4AXWgPxr/f1tT2uqNIu2VaYMtiufZA8Qc9QjdjwRubtJ\n",
       "sCq3zAZv9foPDNAP7Y91qb5ViX/ApgmNrseWLSWDW1W6L2bc0FdMpCssreQ5UyjpvukSWB3AlhHS\n",
       "6A/4rGq+Pb2H+Rav7KJ2FBNRfCC7HHvtNx7KW7z5mPNtFlr2HF4Tl+U+UtAsOyFw4VcHA0Uv1Prv\n",
       "lZDjY8f7kQMHBmO5SUWQ756QcjWkirYqVloVwRM4QYeQA+pZykiAnV7CAqzNfahgnT1/MaCaI/XG\n",
       "aAMcFeVht+ZzGlZGhRIfNRIABP3THczCWx9Id+2SyrKFLrc9AIeIcu4XWkLY2VQnykLcd+va13h/\n",
       "o05V2KkX6XmV7YF2jMWrRUf9L8w4UBzmPmt7XXnrNQ+kzX7wJ7CUuPBbrBPimCIuGfH873Dd0Iy3\n",
       "2/Roe/zPFmBXu2T0s0BAV5HysfiGIwPe19UusypK5cbGgFGUHKcMBSI22ETSxfPssu7z0dT/+Bgg\n",
       "fYmwuMRA8GMoL1PowsqIJCK1OUGAmgPQPau8t1FScqFc22iQ2ou/rYxwtkINrnSpwB/UcJqRiQ4A\n",
       "AAGYAZ5BeQ3/BGHLN6qyrld7/Tl9+0DQAdqQ2/nxQqeB1GDXXYb6b/+mRCvzXZxtcS0nrkSPiHLL\n",
       "pZbpWouti4yMLoJqvdz3F+JXPmIHps41zJK7HgO1iRnUIi2mZD6Xj2d8LNVxN+rC4sUK82f2NVCP\n",
       "GLsl0BAzirYjmvp+1QsY05LHJF62UkNNy+de8FrLfi7ncfEKr0VVPuBTcSrffLW/NldA/2gT/sK0\n",
       "RIg8DVaADzAvwo//G/XppNGB55/TV5DhmJx0sYSbeif6v9I5SyI0GUwSumHvxPxzw16O9b6ZQgNf\n",
       "HQSxq2RwTeBFictWZMe5GNrlcrtnoV8G3vU6CCFwinY8gnRhTJeYBA4ebxs7zHMIoItHER4AEsw8\n",
       "w5qq4UzGqMfbIlDXRmIyLUzyShZ4gTKb87oEqgmDtV7HPd1cwCJCg1ja0o0KkocR7VVcSi8ixvrd\n",
       "Dsq04evT0Cjjf3bKEXp+TcpcQr0nLbj8TJFvWL4e7fQbV3JIiGKHDd++Y5TroS1ihCk/ujShegdX\n",
       "ITO45FPgpb0+iINJAAAC0UGaRTwhkymEN//+p4ZM5u64eblgAOzPMAo2XtjvYVDizHy09TLFD8gx\n",
       "D25igjkxz/wNJWrqaSYx0eFrYhb8CuYcgegjzVT76PeroVjXCizCqdQttjMPGOcijpnXQtX1W9Eb\n",
       "zh9ZZRBH/kBnEHLx/LKCEOMahjeO7zJGTRzHYLg7+pz8uPshl0Wbk4y1x00dt8sPvRPfWFP1coIL\n",
       "N1NEIBYJQ7DwuuSo0Pf3k1t8PpdN5lQIUFxsw/lAxhbO/qdroAhOpHRAQiJF/+bZCN6CRUI64fWj\n",
       "PF+q595kFjA4Lk4TXMINjKtRBAYsMaS4pdzjQIdQ80jQpQQGZh8t4jM2zcyiJ22to8s6eUt0FjhG\n",
       "zQARQAD9ASEXfIUzbSCIQpVjB9aD+/Db/tNft796mwwfjivEdl/UBl6XIARUUGKEBowu3Jmx39g1\n",
       "SQYatElgA3SQouhHw+Tt28Vm6eO2SKnlv+FTN2sd+G1CApXdytNxr2TZA8Z+8FaFOuHPPo3gKqaJ\n",
       "cr8k/iNPZcvkEABTy7qEq8LCA2Zu1dYAQBpGUtJKwdB+NkfJEatC9xbWTaPVhRXgAheXf5FobboX\n",
       "gXY1/pEzBpRNN3qvmO5l/ZWoHaLBGQbXVR1FP5BSh6tqC9j6MXYZXblTqi92K55k+lll6TFZVbFW\n",
       "K0xEtbexAopH1IyZ3HBTByN4AwFgozyKvn3kxBI05fbtAETRrvmAAS5qzRgRoldgwJ5M43/2AelB\n",
       "kk5cwJfLdrE89u/w22rqEZkaoLFqv+uNUdVV+cfhWJNwXBq4JojZPgG/nlh34IIgamHR0GBEw8J8\n",
       "SPSkJjUGuFJW9Y+Pv9cU1gqPuhGAV/HIlaGcUh/5m6HabO1HkknTwRIBt3luqot+YUsF0OpRH6ob\n",
       "MD1XkBlp375SvQPGMo6DxWNywkDrJaKkP0nsmi8zMQzFBAAlGlu2TcsqMeHiA5WTo2e+SYAAAAEe\n",
       "QZ5jalPDfwRj73biz5jPtAAW3jML3FhUV4hkTKiQKrOKzZ7FHGZeoOuCE/yHWnesX79+T4qHLoMY\n",
       "cUtkHa2lhbZJmxCSEzV+mb6+VYEBLrdk18ii3w/Hd6l0cVTEHC9oUawwbZSBsVIGaNFrptyb+BDL\n",
       "ijRPCBjc3fqiuqlEZ0/8Hf9qmWZJAePzMFAPYIu201U5L6GiYgcvcAYv6qtvfljAcPElOGADU7jO\n",
       "Cqrk5V5rhXtCgDG/PRCIMK2sI+88GUYOXJHuyCW5XW9k9zU61EsCIs/ODAcbT0F0gLbj7CRZ+ih+\n",
       "u/FoVIrS83BXrLCqppZQVRwUH3T3O3FZkRaGG6+FVDJuwlJfJDGb/pKEBi44c8o9NASB6kqWURrX\n",
       "iQAAAMoBnoRqQ38EY+924s+YPIy5gckoYcUUAB9w+ktK7KK+FLH3SbTtX/uQc2q4GHF9LLZIK2Qe\n",
       "wcr/4hPxdORQKK+cQVcFh1IJqbUiNDBoYIeIlxnE34cddUNdxwzZW18chwydEa/AwTfNTaKDfSf8\n",
       "vswi6S6XJNxP9kSP3kj4XeBOUn+C9kcvJZhu8+bkyZdn03BCf7Aq//B/nQVLorN65+2BJCYB/3+6\n",
       "yz/63du7P30ORgZ52d4mA4mLRBqY6eEPGPdOozBrfXlMBnxBAAADcm1vb3YAAABsbXZoZAAAAAAA\n",
       "AAAAAAAAAAAAA+gAAAJYAAEAAAEAAAAAAAAAAAAAAAABAAAAAAAAAAAAAAAAAAAAAQAAAAAAAAAA\n",
       "AAAAAAAAQAAAAAAAAAAAAAAAAAAAAAAAAAAAAAAAAAAAAAAAAAIAAAKcdHJhawAAAFx0a2hkAAAA\n",
       "AwAAAAAAAAAAAAAAAQAAAAAAAAJYAAAAAAAAAAAAAAAAAAAAAAABAAAAAAAAAAAAAAAAAAAAAQAA\n",
       "AAAAAAAAAAAAAAAAQAAAAAGwAAAAkAAAAAAAJGVkdHMAAAAcZWxzdAAAAAAAAAABAAACWAAACAAA\n",
       "AQAAAAACFG1kaWEAAAAgbWRoZAAAAAAAAAAAAAAAAAAAKAAAABgAVcQAAAAAAC1oZGxyAAAAAAAA\n",
       "AAB2aWRlAAAAAAAAAAAAAAAAVmlkZW9IYW5kbGVyAAAAAb9taW5mAAAAFHZtaGQAAAABAAAAAAAA\n",
       "AAAAAAAkZGluZgAAABxkcmVmAAAAAAAAAAEAAAAMdXJsIAAAAAEAAAF/c3RibAAAALdzdHNkAAAA\n",
       "AAAAAAEAAACnYXZjMQAAAAAAAAABAAAAAAAAAAAAAAAAAAAAAAGwAJAASAAAAEgAAAAAAAAAAQAA\n",
       "AAAAAAAAAAAAAAAAAAAAAAAAAAAAAAAAAAAAAAAAABj//wAAADVhdmNDAWQADP/hABhnZAAMrNlB\n",
       "sToQAAADABAAAAMBQPFCmWABAAZo6+PLIsD9+PgAAAAAHHV1aWRraEDyXyRPxbo5pRvPAyPzAAAA\n",
       "AAAAABhzdHRzAAAAAAAAAAEAAAAGAAAEAAAAABRzdHNzAAAAAAAAAAEAAAABAAAAOGN0dHMAAAAA\n",
       "AAAABQAAAAEAAAgAAAAAAQAADAAAAAABAAAEAAAAAAEAABAAAAAAAgAABAAAAAAcc3RzYwAAAAAA\n",
       "AAABAAAAAQAAAAYAAAABAAAALHN0c3oAAAAAAAAAAAAAAAYAABAoAAADBgAAAZwAAALVAAABIgAA\n",
       "AM4AAAAUc3RjbwAAAAAAAAABAAAAMAAAAGJ1ZHRhAAAAWm1ldGEAAAAAAAAAIWhkbHIAAAAAAAAA\n",
       "AG1kaXJhcHBsAAAAAAAAAAAAAAAALWlsc3QAAAAlqXRvbwAAAB1kYXRhAAAAAQAAAABMYXZmNTgu\n",
       "NzYuMTAw\n",
       "\">\n",
       "  Your browser does not support the video tag.\n",
       "</video>"
      ],
      "text/plain": [
       "<IPython.core.display.HTML object>"
      ]
     },
     "metadata": {},
     "output_type": "display_data"
    }
   ],
   "source": [
    "env = Environment()\n",
    "env.reset()\n",
    "print(env.visible_state)\n",
    "\n",
    "done = False\n",
    "while not done:\n",
    "    _, _, done = env.step(2) # Down\n",
    "\n",
    "animate(env.history)"
   ]
  },
  {
   "cell_type": "markdown",
   "metadata": {},
   "source": [
    "## Actor-Critic network\n",
    "\n",
    "Value-based reinforcement learning methods like Q-Learning try to predict the expected reward of the next state(s) given an action. In contrast, a policy method tries to directly choose the best action given a state. Policy methods are conceptually simpler but training can be tricky - due to the high variance of rewards, it can easily become unstable or just plateau at a local minimum.\n",
    "\n",
    "Combining a value estimation with the policy helps regularize training by establishing a \"baseline\" reward that learns alongside the actor. Subtracting a baseline value from the rewards essentially trains the actor to perform \"better than expected\".\n",
    "\n",
    "In this case, both actor and critic (baseline) are combined into a single neural network with 5 outputs: the probabilities of the 4 possible actions, and an estimated value.\n",
    "\n",
    "The input layer `inp` transforms the environment state, $(radius*2+1)^2$ squares plus the agent's health and position,  into an internal state. The output layer `out` transforms that internal state to probabilities of possible actions plus the estimated value."
   ]
  },
  {
   "cell_type": "code",
   "execution_count": 37,
   "metadata": {
    "collapsed": false
   },
   "outputs": [],
   "source": [
    "class Policy(nn.Module):\n",
    "    def __init__(self, hidden_size):\n",
    "        super(Policy, self).__init__()\n",
    "        \n",
    "        visible_squares = (VISIBLE_RADIUS * 2 + 1) ** 2\n",
    "        input_size = visible_squares + 1 + 2 # Plus agent health, y, x\n",
    "        \n",
    "        self.inp = nn.Linear(input_size, hidden_size)\n",
    "        self.out = nn.Linear(hidden_size, 4 + 1, bias=False) # For both action and expected value\n",
    "\n",
    "    def forward(self, x):\n",
    "        x = x.view(1, -1)\n",
    "        x = F.tanh(x) # Squash inputs\n",
    "        x = F.relu(self.inp(x))\n",
    "        x = self.out(x)\n",
    "        \n",
    "        # Split last five outputs into scores and value\n",
    "        scores = x[:,:4]\n",
    "        value = x[:,4]\n",
    "        return scores, value"
   ]
  },
  {
   "cell_type": "markdown",
   "metadata": {},
   "source": [
    "## Selecting actions\n",
    "\n",
    "To select actions we treat the output of the policy as a multinomial distribution over actions, and sample from that to choose a single action. Thanks to the [REINFORCE](https://webdocs.cs.ualberta.ca/~sutton/williams-92.pdf) algorithm we can calculate gradients for discrete action samples by calling `action.reinforce(reward)` at the end of the episode.\n",
    "\n",
    "To encourage exploration in early episodes, here's one weird trick: apply dropout to the action scores, before softmax. Randomly masking some scores will cause less likely scores to be chosen. The dropout percent gradually decreases from 30% to 5% over the first 200k episodes."
   ]
  },
  {
   "cell_type": "code",
   "execution_count": 38,
   "metadata": {
    "collapsed": false
   },
   "outputs": [],
   "source": [
    "DROP_MAX = 0.3\n",
    "DROP_MIN = 0.05\n",
    "DROP_OVER = 200000\n",
    "\n",
    "def select_action(e, state):\n",
    "    drop = interpolate(e, DROP_MAX, DROP_MIN, DROP_OVER)\n",
    "    \n",
    "    state = Variable(torch.from_numpy(state).float())\n",
    "    scores, value = policy(state) # Forward state through network\n",
    "    scores = F.dropout(scores, drop, True) # Dropout for exploration\n",
    "    scores = F.softmax(scores)\n",
    "    action = scores.multinomial(num_samples=1) # Sample an action\n",
    "\n",
    "    return action, value"
   ]
  },
  {
   "cell_type": "markdown",
   "metadata": {},
   "source": [
    "## Playing through an episode\n",
    "\n",
    "A single episode is the agent moving through the environment from start to finish. We keep track of the chosen action and value outputs from the model, and resulting rewards to reinforce at the end of the episode."
   ]
  },
  {
   "cell_type": "code",
   "execution_count": 39,
   "metadata": {
    "collapsed": true
   },
   "outputs": [],
   "source": [
    "def run_episode(e):\n",
    "    state = env.reset()\n",
    "    actions = []\n",
    "    values = []\n",
    "    rewards = []\n",
    "    done = False\n",
    "\n",
    "    while not done:\n",
    "        action, value = select_action(e, state)\n",
    "        state, reward, done = env.step(action.data[0, 0])\n",
    "        actions.append(action)\n",
    "        values.append(value)\n",
    "        rewards.append(reward)\n",
    "\n",
    "    return actions, values, rewards"
   ]
  },
  {
   "cell_type": "markdown",
   "metadata": {},
   "source": [
    "## Using REINFORCE with a value baseline\n",
    "\n",
    "The policy gradient method is similar to regular supervised learning, except we don't know the \"correct\" action for any given state. Plus we are only getting a single reward at the end of the episode. To give rewards to past actions we fake history by copying the final reward (and possibly intermediate rewards) back in time with a discount factor:\n",
    "\n",
    "![](https://i.imgur.com/IoXMuCb.png)\n",
    "\n",
    "Then for every time step, we use `action.reinforce(reward)` to encourage or discourage those actions.\n",
    "\n",
    "We will use the value output of the network as a baseline, and use the difference of the reward and the baseline with `reinforce`. The value estimate itself is trained to be close to the actual reward with a MSE loss."
   ]
  },
  {
   "cell_type": "code",
   "execution_count": 40,
   "metadata": {
    "collapsed": false
   },
   "outputs": [],
   "source": [
    "gamma = 0.9 # Discounted reward factor\n",
    "\n",
    "mse = nn.MSELoss()\n",
    "\n",
    "def finish_episode(e, actions, values, rewards):\n",
    "    \n",
    "    # Calculate discounted rewards, going backwards from end\n",
    "    discounted_rewards = []\n",
    "    R = 0\n",
    "    for r in rewards[::-1]:\n",
    "        R = r + gamma * R\n",
    "        discounted_rewards.insert(0, R)\n",
    "    discounted_rewards = torch.Tensor(discounted_rewards)\n",
    "\n",
    "    # Use REINFORCE on chosen actions and associated discounted rewards\n",
    "    value_loss = 0\n",
    "    for action, value, reward in zip(actions, values, discounted_rewards):\n",
    "        reward_diff = reward - value.data[0] # Treat critic value as baseline\n",
    "        action.reinforce(reward_diff) # Try to perform better than baseline\n",
    "        value_loss += mse(value, Variable(torch.Tensor([reward]))) # Compare with actual reward\n",
    "\n",
    "    # Backpropagate\n",
    "    optimizer.zero_grad()\n",
    "    nodes = [value_loss] + actions\n",
    "    gradients = [torch.ones(1)] + [None for _ in actions] # No gradients for reinforced values\n",
    "    autograd.backward(nodes, gradients)\n",
    "    optimizer.step()\n",
    "    \n",
    "    return discounted_rewards, value_loss"
   ]
  },
  {
   "cell_type": "markdown",
   "metadata": {},
   "source": [
    "With everything in place we can define the training parameters and create the actual Environment and Policy instances. We'll also use a SlidingAverage helper to keep track of average rewards over time."
   ]
  },
  {
   "cell_type": "code",
   "execution_count": 41,
   "metadata": {
    "collapsed": false
   },
   "outputs": [],
   "source": [
    "hidden_size = 50\n",
    "learning_rate = 1e-4\n",
    "weight_decay = 1e-5\n",
    "\n",
    "log_every = 1000\n",
    "render_every = 20000\n",
    "\n",
    "env = Environment()\n",
    "policy = Policy(hidden_size=hidden_size)\n",
    "optimizer = optim.Adam(policy.parameters(), lr=learning_rate)#, weight_decay=weight_decay)\n",
    "\n",
    "reward_avg = SlidingAverage('reward avg', steps=log_every)\n",
    "value_avg = SlidingAverage('value avg', steps=log_every)\n"
   ]
  },
  {
   "cell_type": "markdown",
   "metadata": {},
   "source": [
    "Finally, we run a bunch of episodes and wait for some results. The average final reward will help us track whether it's learning. This took about an hour on a 2.8GHz CPU to get some reasonable results."
   ]
  },
  {
   "cell_type": "code",
   "execution_count": 42,
   "metadata": {
    "collapsed": false
   },
   "outputs": [
    {
     "name": "stderr",
     "output_type": "stream",
     "text": [
      "/home/lars/.local/lib/python3.10/site-packages/torch/nn/functional.py:1949: UserWarning: nn.functional.tanh is deprecated. Use torch.tanh instead.\n",
      "  warnings.warn(\"nn.functional.tanh is deprecated. Use torch.tanh instead.\")\n",
      "/tmp/ipykernel_18663/2036728012.py:11: UserWarning: Implicit dimension choice for softmax has been deprecated. Change the call to include dim=X as an argument.\n",
      "  scores = F.softmax(scores)\n"
     ]
    },
    {
     "ename": "RuntimeError",
     "evalue": "reinforce() was removed.\nUse torch.distributions instead.\nSee https://pytorch.org/docs/master/distributions.html\n\nInstead of:\n\nprobs = policy_network(state)\naction = probs.multinomial()\nnext_state, reward = env.step(action)\naction.reinforce(reward)\naction.backward()\n\nUse:\n\nprobs = policy_network(state)\n# NOTE: categorical is equivalent to what used to be called multinomial\nm = torch.distributions.Categorical(probs)\naction = m.sample()\nnext_state, reward = env.step(action)\nloss = -m.log_prob(action) * reward\nloss.backward()\n",
     "output_type": "error",
     "traceback": [
      "\u001b[0;31m---------------------------------------------------------------------------\u001b[0m",
      "\u001b[0;31mRuntimeError\u001b[0m                              Traceback (most recent call last)",
      "\u001b[0;32m/tmp/ipykernel_18663/1715176060.py\u001b[0m in \u001b[0;36m<module>\u001b[0;34m\u001b[0m\n\u001b[1;32m      5\u001b[0m     \u001b[0mfinal_reward\u001b[0m \u001b[0;34m=\u001b[0m \u001b[0mrewards\u001b[0m\u001b[0;34m[\u001b[0m\u001b[0;34m-\u001b[0m\u001b[0;36m1\u001b[0m\u001b[0;34m]\u001b[0m\u001b[0;34m\u001b[0m\u001b[0;34m\u001b[0m\u001b[0m\n\u001b[1;32m      6\u001b[0m \u001b[0;34m\u001b[0m\u001b[0m\n\u001b[0;32m----> 7\u001b[0;31m     \u001b[0mdiscounted_rewards\u001b[0m\u001b[0;34m,\u001b[0m \u001b[0mvalue_loss\u001b[0m \u001b[0;34m=\u001b[0m \u001b[0mfinish_episode\u001b[0m\u001b[0;34m(\u001b[0m\u001b[0me\u001b[0m\u001b[0;34m,\u001b[0m \u001b[0mactions\u001b[0m\u001b[0;34m,\u001b[0m \u001b[0mvalues\u001b[0m\u001b[0;34m,\u001b[0m \u001b[0mrewards\u001b[0m\u001b[0;34m)\u001b[0m\u001b[0;34m\u001b[0m\u001b[0;34m\u001b[0m\u001b[0m\n\u001b[0m\u001b[1;32m      8\u001b[0m \u001b[0;34m\u001b[0m\u001b[0m\n\u001b[1;32m      9\u001b[0m     \u001b[0mreward_avg\u001b[0m\u001b[0;34m.\u001b[0m\u001b[0madd\u001b[0m\u001b[0;34m(\u001b[0m\u001b[0mfinal_reward\u001b[0m\u001b[0;34m)\u001b[0m\u001b[0;34m\u001b[0m\u001b[0;34m\u001b[0m\u001b[0m\n",
      "\u001b[0;32m/tmp/ipykernel_18663/2502379695.py\u001b[0m in \u001b[0;36mfinish_episode\u001b[0;34m(e, actions, values, rewards)\u001b[0m\n\u001b[1;32m     17\u001b[0m     \u001b[0;32mfor\u001b[0m \u001b[0maction\u001b[0m\u001b[0;34m,\u001b[0m \u001b[0mvalue\u001b[0m\u001b[0;34m,\u001b[0m \u001b[0mreward\u001b[0m \u001b[0;32min\u001b[0m \u001b[0mzip\u001b[0m\u001b[0;34m(\u001b[0m\u001b[0mactions\u001b[0m\u001b[0;34m,\u001b[0m \u001b[0mvalues\u001b[0m\u001b[0;34m,\u001b[0m \u001b[0mdiscounted_rewards\u001b[0m\u001b[0;34m)\u001b[0m\u001b[0;34m:\u001b[0m\u001b[0;34m\u001b[0m\u001b[0;34m\u001b[0m\u001b[0m\n\u001b[1;32m     18\u001b[0m         \u001b[0mreward_diff\u001b[0m \u001b[0;34m=\u001b[0m \u001b[0mreward\u001b[0m \u001b[0;34m-\u001b[0m \u001b[0mvalue\u001b[0m\u001b[0;34m.\u001b[0m\u001b[0mdata\u001b[0m\u001b[0;34m[\u001b[0m\u001b[0;36m0\u001b[0m\u001b[0;34m]\u001b[0m \u001b[0;31m# Treat critic value as baseline\u001b[0m\u001b[0;34m\u001b[0m\u001b[0;34m\u001b[0m\u001b[0m\n\u001b[0;32m---> 19\u001b[0;31m         \u001b[0maction\u001b[0m\u001b[0;34m.\u001b[0m\u001b[0mreinforce\u001b[0m\u001b[0;34m(\u001b[0m\u001b[0mreward_diff\u001b[0m\u001b[0;34m)\u001b[0m \u001b[0;31m# Try to perform better than baseline\u001b[0m\u001b[0;34m\u001b[0m\u001b[0;34m\u001b[0m\u001b[0m\n\u001b[0m\u001b[1;32m     20\u001b[0m         \u001b[0mvalue_loss\u001b[0m \u001b[0;34m+=\u001b[0m \u001b[0mmse\u001b[0m\u001b[0;34m(\u001b[0m\u001b[0mvalue\u001b[0m\u001b[0;34m,\u001b[0m \u001b[0mVariable\u001b[0m\u001b[0;34m(\u001b[0m\u001b[0mtorch\u001b[0m\u001b[0;34m.\u001b[0m\u001b[0mTensor\u001b[0m\u001b[0;34m(\u001b[0m\u001b[0;34m[\u001b[0m\u001b[0mreward\u001b[0m\u001b[0;34m]\u001b[0m\u001b[0;34m)\u001b[0m\u001b[0;34m)\u001b[0m\u001b[0;34m)\u001b[0m \u001b[0;31m# Compare with actual reward\u001b[0m\u001b[0;34m\u001b[0m\u001b[0;34m\u001b[0m\u001b[0m\n\u001b[1;32m     21\u001b[0m \u001b[0;34m\u001b[0m\u001b[0m\n",
      "\u001b[0;32m~/.local/lib/python3.10/site-packages/torch/_tensor.py\u001b[0m in \u001b[0;36mreinforce\u001b[0;34m(self, reward)\u001b[0m\n\u001b[1;32m    442\u001b[0m             \u001b[0;32mreturn\u001b[0m \u001b[0;34m'\\n'\u001b[0m\u001b[0;34m.\u001b[0m\u001b[0mjoin\u001b[0m\u001b[0;34m(\u001b[0m\u001b[0;34m[\u001b[0m\u001b[0mline\u001b[0m\u001b[0;34m.\u001b[0m\u001b[0mstrip\u001b[0m\u001b[0;34m(\u001b[0m\u001b[0;34m)\u001b[0m \u001b[0;32mfor\u001b[0m \u001b[0mline\u001b[0m \u001b[0;32min\u001b[0m \u001b[0mstr\u001b[0m\u001b[0;34m.\u001b[0m\u001b[0msplit\u001b[0m\u001b[0;34m(\u001b[0m\u001b[0;34m'\\n'\u001b[0m\u001b[0;34m)\u001b[0m\u001b[0;34m]\u001b[0m\u001b[0;34m)\u001b[0m\u001b[0;34m\u001b[0m\u001b[0;34m\u001b[0m\u001b[0m\n\u001b[1;32m    443\u001b[0m \u001b[0;34m\u001b[0m\u001b[0m\n\u001b[0;32m--> 444\u001b[0;31m         raise RuntimeError(trim(r\"\"\"reinforce() was removed.\n\u001b[0m\u001b[1;32m    445\u001b[0m             \u001b[0mUse\u001b[0m \u001b[0mtorch\u001b[0m\u001b[0;34m.\u001b[0m\u001b[0mdistributions\u001b[0m \u001b[0minstead\u001b[0m\u001b[0;34m.\u001b[0m\u001b[0;34m\u001b[0m\u001b[0;34m\u001b[0m\u001b[0m\n\u001b[1;32m    446\u001b[0m             \u001b[0mSee\u001b[0m \u001b[0mhttps\u001b[0m\u001b[0;34m:\u001b[0m\u001b[0;34m//\u001b[0m\u001b[0mpytorch\u001b[0m\u001b[0;34m.\u001b[0m\u001b[0morg\u001b[0m\u001b[0;34m/\u001b[0m\u001b[0mdocs\u001b[0m\u001b[0;34m/\u001b[0m\u001b[0mmaster\u001b[0m\u001b[0;34m/\u001b[0m\u001b[0mdistributions\u001b[0m\u001b[0;34m.\u001b[0m\u001b[0mhtml\u001b[0m\u001b[0;34m\u001b[0m\u001b[0;34m\u001b[0m\u001b[0m\n",
      "\u001b[0;31mRuntimeError\u001b[0m: reinforce() was removed.\nUse torch.distributions instead.\nSee https://pytorch.org/docs/master/distributions.html\n\nInstead of:\n\nprobs = policy_network(state)\naction = probs.multinomial()\nnext_state, reward = env.step(action)\naction.reinforce(reward)\naction.backward()\n\nUse:\n\nprobs = policy_network(state)\n# NOTE: categorical is equivalent to what used to be called multinomial\nm = torch.distributions.Categorical(probs)\naction = m.sample()\nnext_state, reward = env.step(action)\nloss = -m.log_prob(action) * reward\nloss.backward()\n"
     ]
    }
   ],
   "source": [
    "e = 0\n",
    "\n",
    "while reward_avg < 0.75:\n",
    "    actions, values, rewards = run_episode(e)\n",
    "    final_reward = rewards[-1]\n",
    "    \n",
    "    discounted_rewards, value_loss = finish_episode(e, actions, values, rewards)\n",
    "    \n",
    "    reward_avg.add(final_reward)\n",
    "    value_avg.add(value_loss.data[0])\n",
    "    \n",
    "    if e % log_every == 0:\n",
    "        print('[epoch=%d]' % e, reward_avg, value_avg)\n",
    "    \n",
    "    if e > 0 and e % render_every == 0:\n",
    "        animate(env.history)\n",
    "    \n",
    "    e += 1"
   ]
  },
  {
   "cell_type": "code",
   "execution_count": null,
   "metadata": {
    "collapsed": false,
    "scrolled": false
   },
   "outputs": [
    {
     "data": {
      "image/png": "[encoded data removed]",
      "text/plain": [
       "<matplotlib.figure.Figure at 0x110328128>"
      ]
     },
     "metadata": {},
     "output_type": "display_data"
    },
    {
     "data": {
      "image/png": "[encoded data removed]",
      "text/plain": [
       "<matplotlib.figure.Figure at 0x118459390>"
      ]
     },
     "metadata": {},
     "output_type": "display_data"
    }
   ],
   "source": [
    "# Plot average reward and value loss\n",
    "plt.plot(np.array(reward_avg.avgs))\n",
    "plt.show()\n",
    "plt.plot(np.array(value_avg.avgs))\n",
    "plt.show()"
   ]
  },
  {
   "cell_type": "markdown",
   "metadata": {
    "collapsed": true
   },
   "source": [
    "As you can see from the shape of the rewards graph, training these kinds of networks is a rollercoaster of luck."
   ]
  },
  {
   "cell_type": "markdown",
   "metadata": {},
   "source": [
    "## Exercises\n",
    "\n",
    "* Uncomment the line in the Environment class that returns a reward every step - the agent tends learn a bit quicker because the effects of eating plants are more immediately rewarded.\n",
    "* Try with a bigger grid size, bigger visible area, bigger network, etc.\n",
    "* Try with a recurrent network - it will train slower (in clock time) but often reaches higher values in fewer episodes.\n",
    "* Observe the effects of different learning rates and gamma values."
   ]
  }
 ],
 "metadata": {
  "anaconda-cloud": {},
  "kernelspec": {
   "display_name": "Python 3.10.6 64-bit",
   "language": "python",
   "name": "python3"
  },
  "language_info": {
   "codemirror_mode": {
    "name": "ipython",
    "version": 3
   },
   "file_extension": ".py",
   "mimetype": "text/x-python",
   "name": "python",
   "nbconvert_exporter": "python",
   "pygments_lexer": "ipython3",
   "version": "3.10.6"
  },
  "vscode": {
   "interpreter": {
    "hash": "e7370f93d1d0cde622a1f8e1c04877d8463912d04d973331ad4851f04de6915a"
   }
  }
 },
 "nbformat": 4,
 "nbformat_minor": 1
}
